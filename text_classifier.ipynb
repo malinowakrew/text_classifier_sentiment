{
  "nbformat": 4,
  "nbformat_minor": 5,
  "metadata": {
    "colab": {
      "name": "text_classifier.ipynb",
      "provenance": [],
      "collapsed_sections": [],
      "toc_visible": true,
      "include_colab_link": true
    },
    "kernelspec": {
      "display_name": "Python 3",
      "language": "python",
      "name": "python3"
    },
    "language_info": {
      "codemirror_mode": {
        "name": "ipython",
        "version": 3
      },
      "file_extension": ".py",
      "mimetype": "text/x-python",
      "name": "python",
      "nbconvert_exporter": "python",
      "pygments_lexer": "ipython3",
      "version": "3.8.5"
    }
  },
  "cells": [
    {
      "cell_type": "markdown",
      "metadata": {
        "id": "view-in-github",
        "colab_type": "text"
      },
      "source": [
        "<a href=\"https://colab.research.google.com/github/malinowakrew/text_classifier_sentiment/blob/master/text_classifier.ipynb\" target=\"_parent\"><img src=\"https://colab.research.google.com/assets/colab-badge.svg\" alt=\"Open In Colab\"/></a>"
      ]
    },
    {
      "cell_type": "markdown",
      "metadata": {
        "id": "OK8Wusnm6d3_"
      },
      "source": [
        "# Sentiment analysis"
      ],
      "id": "OK8Wusnm6d3_"
    },
    {
      "cell_type": "code",
      "metadata": {
        "id": "steady-newcastle"
      },
      "source": [
        "import tensorflow as tf\n",
        "import string\n",
        "import numpy as np\n",
        "\n",
        "import pandas as pd\n",
        "import random "
      ],
      "id": "steady-newcastle",
      "execution_count": null,
      "outputs": []
    },
    {
      "cell_type": "code",
      "metadata": {
        "id": "nearby-arbitration"
      },
      "source": [
        "from tensorflow import keras\n",
        "from tensorflow.keras import layers"
      ],
      "id": "nearby-arbitration",
      "execution_count": null,
      "outputs": []
    },
    {
      "cell_type": "markdown",
      "metadata": {
        "id": "Snb45SLq6Hk5"
      },
      "source": [
        "This library is not nessesary in this notebook but I leave this here."
      ],
      "id": "Snb45SLq6Hk5"
    },
    {
      "cell_type": "code",
      "metadata": {
        "id": "bizarre-bubble"
      },
      "source": [
        "import tensorflow_datasets as tfds \n",
        "import os"
      ],
      "id": "bizarre-bubble",
      "execution_count": null,
      "outputs": []
    },
    {
      "cell_type": "markdown",
      "metadata": {
        "id": "P97dOFocuw_1"
      },
      "source": [
        "## Alternative version for data load to kernel"
      ],
      "id": "P97dOFocuw_1"
    },
    {
      "cell_type": "code",
      "metadata": {
        "colab": {
          "base_uri": "https://localhost:8080/"
        },
        "id": "0pErORjlu0hI",
        "outputId": "def0f976-01c2-4bad-89c8-8458eb662c55"
      },
      "source": [
        "! git clone https://github.com/malinowakrew/text_classifier_sentiment.git # nie powinno być potrzeby naciskania bo już klonowałam"
      ],
      "id": "0pErORjlu0hI",
      "execution_count": null,
      "outputs": [
        {
          "output_type": "stream",
          "text": [
            "Cloning into 'text_classifier_sentiment'...\n",
            "remote: Enumerating objects: 4, done.\u001b[K\n",
            "remote: Counting objects: 100% (4/4), done.\u001b[K\n",
            "remote: Compressing objects: 100% (4/4), done.\u001b[K\n",
            "remote: Total 4 (delta 0), reused 4 (delta 0), pack-reused 0\u001b[K\n",
            "Unpacking objects: 100% (4/4), done.\n"
          ],
          "name": "stdout"
        }
      ]
    },
    {
      "cell_type": "markdown",
      "metadata": {
        "id": "6NvaCk1B93iY"
      },
      "source": [
        "## Data preparation"
      ],
      "id": "6NvaCk1B93iY"
    },
    {
      "cell_type": "markdown",
      "metadata": {
        "id": "v2mSzoLa5qAn"
      },
      "source": [
        "We will be using twitts about COVID19, labeled manually. We choose to use encoder latina-1 because defoult utf-8 didin't match every data. "
      ],
      "id": "v2mSzoLa5qAn"
    },
    {
      "cell_type": "code",
      "metadata": {
        "id": "portable-winter"
      },
      "source": [
        "data = pd.read_csv(\"text_classifier_sentiment/Corona_NLP_train.csv\", encoding='latin-1')"
      ],
      "id": "portable-winter",
      "execution_count": null,
      "outputs": []
    },
    {
      "cell_type": "markdown",
      "metadata": {
        "id": "VKX0hMYqw4pr"
      },
      "source": [
        "Let's check how our data looks like."
      ],
      "id": "VKX0hMYqw4pr"
    },
    {
      "cell_type": "code",
      "metadata": {
        "colab": {
          "base_uri": "https://localhost:8080/",
          "height": 359
        },
        "id": "downtown-timothy",
        "outputId": "fce98572-9d28-447c-a9a2-b40044c2485e"
      },
      "source": [
        "data.head(10)"
      ],
      "id": "downtown-timothy",
      "execution_count": null,
      "outputs": [
        {
          "output_type": "execute_result",
          "data": {
            "text/html": [
              "<div>\n",
              "<style scoped>\n",
              "    .dataframe tbody tr th:only-of-type {\n",
              "        vertical-align: middle;\n",
              "    }\n",
              "\n",
              "    .dataframe tbody tr th {\n",
              "        vertical-align: top;\n",
              "    }\n",
              "\n",
              "    .dataframe thead th {\n",
              "        text-align: right;\n",
              "    }\n",
              "</style>\n",
              "<table border=\"1\" class=\"dataframe\">\n",
              "  <thead>\n",
              "    <tr style=\"text-align: right;\">\n",
              "      <th></th>\n",
              "      <th>UserName</th>\n",
              "      <th>ScreenName</th>\n",
              "      <th>Location</th>\n",
              "      <th>TweetAt</th>\n",
              "      <th>OriginalTweet</th>\n",
              "      <th>Sentiment</th>\n",
              "    </tr>\n",
              "  </thead>\n",
              "  <tbody>\n",
              "    <tr>\n",
              "      <th>0</th>\n",
              "      <td>3799</td>\n",
              "      <td>48751</td>\n",
              "      <td>London</td>\n",
              "      <td>16-03-2020</td>\n",
              "      <td>@MeNyrbie @Phil_Gahan @Chrisitv https://t.co/i...</td>\n",
              "      <td>Neutral</td>\n",
              "    </tr>\n",
              "    <tr>\n",
              "      <th>1</th>\n",
              "      <td>3800</td>\n",
              "      <td>48752</td>\n",
              "      <td>UK</td>\n",
              "      <td>16-03-2020</td>\n",
              "      <td>advice Talk to your neighbours family to excha...</td>\n",
              "      <td>Positive</td>\n",
              "    </tr>\n",
              "    <tr>\n",
              "      <th>2</th>\n",
              "      <td>3801</td>\n",
              "      <td>48753</td>\n",
              "      <td>Vagabonds</td>\n",
              "      <td>16-03-2020</td>\n",
              "      <td>Coronavirus Australia: Woolworths to give elde...</td>\n",
              "      <td>Positive</td>\n",
              "    </tr>\n",
              "    <tr>\n",
              "      <th>3</th>\n",
              "      <td>3802</td>\n",
              "      <td>48754</td>\n",
              "      <td>NaN</td>\n",
              "      <td>16-03-2020</td>\n",
              "      <td>My food stock is not the only one which is emp...</td>\n",
              "      <td>Positive</td>\n",
              "    </tr>\n",
              "    <tr>\n",
              "      <th>4</th>\n",
              "      <td>3803</td>\n",
              "      <td>48755</td>\n",
              "      <td>NaN</td>\n",
              "      <td>16-03-2020</td>\n",
              "      <td>Me, ready to go at supermarket during the #COV...</td>\n",
              "      <td>Extremely Negative</td>\n",
              "    </tr>\n",
              "    <tr>\n",
              "      <th>5</th>\n",
              "      <td>3804</td>\n",
              "      <td>48756</td>\n",
              "      <td>ÃT: 36.319708,-82.363649</td>\n",
              "      <td>16-03-2020</td>\n",
              "      <td>As news of the regionÂs first confirmed COVID...</td>\n",
              "      <td>Positive</td>\n",
              "    </tr>\n",
              "    <tr>\n",
              "      <th>6</th>\n",
              "      <td>3805</td>\n",
              "      <td>48757</td>\n",
              "      <td>35.926541,-78.753267</td>\n",
              "      <td>16-03-2020</td>\n",
              "      <td>Cashier at grocery store was sharing his insig...</td>\n",
              "      <td>Positive</td>\n",
              "    </tr>\n",
              "    <tr>\n",
              "      <th>7</th>\n",
              "      <td>3806</td>\n",
              "      <td>48758</td>\n",
              "      <td>Austria</td>\n",
              "      <td>16-03-2020</td>\n",
              "      <td>Was at the supermarket today. Didn't buy toile...</td>\n",
              "      <td>Neutral</td>\n",
              "    </tr>\n",
              "    <tr>\n",
              "      <th>8</th>\n",
              "      <td>3807</td>\n",
              "      <td>48759</td>\n",
              "      <td>Atlanta, GA USA</td>\n",
              "      <td>16-03-2020</td>\n",
              "      <td>Due to COVID-19 our retail store and classroom...</td>\n",
              "      <td>Positive</td>\n",
              "    </tr>\n",
              "    <tr>\n",
              "      <th>9</th>\n",
              "      <td>3808</td>\n",
              "      <td>48760</td>\n",
              "      <td>BHAVNAGAR,GUJRAT</td>\n",
              "      <td>16-03-2020</td>\n",
              "      <td>For corona prevention,we should stop to buy th...</td>\n",
              "      <td>Negative</td>\n",
              "    </tr>\n",
              "  </tbody>\n",
              "</table>\n",
              "</div>"
            ],
            "text/plain": [
              "   UserName  ...           Sentiment\n",
              "0      3799  ...             Neutral\n",
              "1      3800  ...            Positive\n",
              "2      3801  ...            Positive\n",
              "3      3802  ...            Positive\n",
              "4      3803  ...  Extremely Negative\n",
              "5      3804  ...            Positive\n",
              "6      3805  ...            Positive\n",
              "7      3806  ...             Neutral\n",
              "8      3807  ...            Positive\n",
              "9      3808  ...            Negative\n",
              "\n",
              "[10 rows x 6 columns]"
            ]
          },
          "metadata": {
            "tags": []
          },
          "execution_count": 99
        }
      ]
    },
    {
      "cell_type": "markdown",
      "metadata": {
        "id": "NpOR1K2X7HDt"
      },
      "source": [
        "We need only the last two columns."
      ],
      "id": "NpOR1K2X7HDt"
    },
    {
      "cell_type": "code",
      "metadata": {
        "id": "ceramic-latest"
      },
      "source": [
        "dataset = data[[\"OriginalTweet\", \"Sentiment\"]]"
      ],
      "id": "ceramic-latest",
      "execution_count": null,
      "outputs": []
    },
    {
      "cell_type": "code",
      "metadata": {
        "colab": {
          "base_uri": "https://localhost:8080/"
        },
        "id": "logical-scottish",
        "outputId": "89d0f168-cf4f-4dc6-9206-93856dacdaf1"
      },
      "source": [
        "dataset[\"Sentiment\"].value_counts()"
      ],
      "id": "logical-scottish",
      "execution_count": null,
      "outputs": [
        {
          "output_type": "execute_result",
          "data": {
            "text/plain": [
              "Positive              11422\n",
              "Negative               9917\n",
              "Neutral                7713\n",
              "Extremely Positive     6624\n",
              "Extremely Negative     5481\n",
              "Name: Sentiment, dtype: int64"
            ]
          },
          "metadata": {
            "tags": []
          },
          "execution_count": 149
        }
      ]
    },
    {
      "cell_type": "markdown",
      "metadata": {
        "id": "904lEc2l7RJ7"
      },
      "source": [
        "We shuffle data in case there have some specific order."
      ],
      "id": "904lEc2l7RJ7"
    },
    {
      "cell_type": "code",
      "metadata": {
        "colab": {
          "base_uri": "https://localhost:8080/",
          "height": 359
        },
        "id": "ttlN3NUL8Pvv",
        "outputId": "b3cb8e35-fa8f-454a-a5ae-eeb9b6b4ed25"
      },
      "source": [
        "dataset = dataset.sample(frac=1).reset_index(drop=True)\n",
        "dataset.head(10)"
      ],
      "id": "ttlN3NUL8Pvv",
      "execution_count": null,
      "outputs": [
        {
          "output_type": "execute_result",
          "data": {
            "text/html": [
              "<div>\n",
              "<style scoped>\n",
              "    .dataframe tbody tr th:only-of-type {\n",
              "        vertical-align: middle;\n",
              "    }\n",
              "\n",
              "    .dataframe tbody tr th {\n",
              "        vertical-align: top;\n",
              "    }\n",
              "\n",
              "    .dataframe thead th {\n",
              "        text-align: right;\n",
              "    }\n",
              "</style>\n",
              "<table border=\"1\" class=\"dataframe\">\n",
              "  <thead>\n",
              "    <tr style=\"text-align: right;\">\n",
              "      <th></th>\n",
              "      <th>OriginalTweet</th>\n",
              "      <th>Sentiment</th>\n",
              "    </tr>\n",
              "  </thead>\n",
              "  <tbody>\n",
              "    <tr>\n",
              "      <th>0</th>\n",
              "      <td>? HAPPY M O N D A Y Friends ?\\r\\r\\n-\\r\\r\\nI kn...</td>\n",
              "      <td>Extremely Positive</td>\n",
              "    </tr>\n",
              "    <tr>\n",
              "      <th>1</th>\n",
              "      <td>All about positive thinking.\\r\\r\\nHereÂs some...</td>\n",
              "      <td>Extremely Negative</td>\n",
              "    </tr>\n",
              "    <tr>\n",
              "      <th>2</th>\n",
              "      <td>Washing hands with SOAP   fights Here s why it...</td>\n",
              "      <td>Neutral</td>\n",
              "    </tr>\n",
              "    <tr>\n",
              "      <th>3</th>\n",
              "      <td>#coronavirus : les #masques arrivent\\r\\r\\n#des...</td>\n",
              "      <td>Neutral</td>\n",
              "    </tr>\n",
              "    <tr>\n",
              "      <th>4</th>\n",
              "      <td>@McDonaldsUK in Dagenham, east London has shut...</td>\n",
              "      <td>Extremely Negative</td>\n",
              "    </tr>\n",
              "    <tr>\n",
              "      <th>5</th>\n",
              "      <td>Covid 19 at Shopping mall or supermarket meanw...</td>\n",
              "      <td>Positive</td>\n",
              "    </tr>\n",
              "    <tr>\n",
              "      <th>6</th>\n",
              "      <td>Syrian Trading shopping centers continue offer...</td>\n",
              "      <td>Neutral</td>\n",
              "    </tr>\n",
              "    <tr>\n",
              "      <th>7</th>\n",
              "      <td>The #Coronavirus Outbreak is Making Dairy Farm...</td>\n",
              "      <td>Negative</td>\n",
              "    </tr>\n",
              "    <tr>\n",
              "      <th>8</th>\n",
              "      <td>There are elderly people amp families not able...</td>\n",
              "      <td>Extremely Negative</td>\n",
              "    </tr>\n",
              "    <tr>\n",
              "      <th>9</th>\n",
              "      <td>we cannot simply rely on government to get us...</td>\n",
              "      <td>Neutral</td>\n",
              "    </tr>\n",
              "  </tbody>\n",
              "</table>\n",
              "</div>"
            ],
            "text/plain": [
              "                                       OriginalTweet           Sentiment\n",
              "0  ? HAPPY M O N D A Y Friends ?\\r\\r\\n-\\r\\r\\nI kn...  Extremely Positive\n",
              "1  All about positive thinking.\\r\\r\\nHereÂs some...  Extremely Negative\n",
              "2  Washing hands with SOAP   fights Here s why it...             Neutral\n",
              "3  #coronavirus : les #masques arrivent\\r\\r\\n#des...             Neutral\n",
              "4  @McDonaldsUK in Dagenham, east London has shut...  Extremely Negative\n",
              "5  Covid 19 at Shopping mall or supermarket meanw...            Positive\n",
              "6  Syrian Trading shopping centers continue offer...             Neutral\n",
              "7  The #Coronavirus Outbreak is Making Dairy Farm...            Negative\n",
              "8  There are elderly people amp families not able...  Extremely Negative\n",
              "9   we cannot simply rely on government to get us...             Neutral"
            ]
          },
          "metadata": {
            "tags": []
          },
          "execution_count": 150
        }
      ]
    },
    {
      "cell_type": "markdown",
      "metadata": {
        "id": "qfisyzvp7otC"
      },
      "source": [
        "We also need to change written labels to numerical ones. Replacing some text like \"\\r\" will be helpfull, too."
      ],
      "id": "qfisyzvp7otC"
    },
    {
      "cell_type": "code",
      "metadata": {
        "colab": {
          "base_uri": "https://localhost:8080/",
          "height": 376
        },
        "id": "brilliant-earth",
        "outputId": "6553ba18-8308-4214-a8b7-41f1f47bc239"
      },
      "source": [
        "#To_numerical\n",
        "cleanup_nums = [i for i in range(len(list(dataset.iloc[:, -1].unique())))]\n",
        "cleanup = {(list(dataset.iloc[:, -1].unique())[i]): i for i in cleanup_nums}\n",
        "cleanup2 = {'Extremely Negative': 0, 'Extremely Positive': 1, 'Positive': 1, 'Negative': 0, 'Neutral': 2}\n",
        "print(f\"Groups: {cleanup2}\")\n",
        "dataset = dataset.replace(cleanup2)\n",
        "\n",
        "#replacing patterns - we can find more unsueful patterns\n",
        "dataset.replace('\\r{1,}','',regex=True, inplace = True)\n",
        "\n",
        "#show data\n",
        "dataset.head(10)"
      ],
      "id": "brilliant-earth",
      "execution_count": null,
      "outputs": [
        {
          "output_type": "stream",
          "text": [
            "Groups: {'Extremely Negative': 0, 'Extremely Positive': 1, 'Positive': 1, 'Negative': 0, 'Neutral': 2}\n"
          ],
          "name": "stdout"
        },
        {
          "output_type": "execute_result",
          "data": {
            "text/html": [
              "<div>\n",
              "<style scoped>\n",
              "    .dataframe tbody tr th:only-of-type {\n",
              "        vertical-align: middle;\n",
              "    }\n",
              "\n",
              "    .dataframe tbody tr th {\n",
              "        vertical-align: top;\n",
              "    }\n",
              "\n",
              "    .dataframe thead th {\n",
              "        text-align: right;\n",
              "    }\n",
              "</style>\n",
              "<table border=\"1\" class=\"dataframe\">\n",
              "  <thead>\n",
              "    <tr style=\"text-align: right;\">\n",
              "      <th></th>\n",
              "      <th>OriginalTweet</th>\n",
              "      <th>Sentiment</th>\n",
              "    </tr>\n",
              "  </thead>\n",
              "  <tbody>\n",
              "    <tr>\n",
              "      <th>0</th>\n",
              "      <td>HAPPY Friends know everyone uneasy thats go #c...</td>\n",
              "      <td>1</td>\n",
              "    </tr>\n",
              "    <tr>\n",
              "      <th>1</th>\n",
              "      <td>positive thinking. HereÂs example negative th...</td>\n",
              "      <td>0</td>\n",
              "    </tr>\n",
              "    <tr>\n",
              "      <th>2</th>\n",
              "      <td>Washing hand SOAP fight Here work well</td>\n",
              "      <td>2</td>\n",
              "    </tr>\n",
              "    <tr>\n",
              "      <th>3</th>\n",
              "      <td>#coronavirus #masques arrivent #dessindepresse...</td>\n",
              "      <td>2</td>\n",
              "    </tr>\n",
              "    <tr>\n",
              "      <th>4</th>\n",
              "      <td>@McDonaldsUK Dagenham, east London shut shop e...</td>\n",
              "      <td>0</td>\n",
              "    </tr>\n",
              "    <tr>\n",
              "      <th>5</th>\n",
              "      <td>Covid Shopping mall supermarket meanwhile prep...</td>\n",
              "      <td>1</td>\n",
              "    </tr>\n",
              "    <tr>\n",
              "      <th>6</th>\n",
              "      <td>Syrian Trading shopping center continue offeri...</td>\n",
              "      <td>2</td>\n",
              "    </tr>\n",
              "    <tr>\n",
              "      <th>7</th>\n",
              "      <td>#Coronavirus Outbreak Making Dairy Farmers Dum...</td>\n",
              "      <td>0</td>\n",
              "    </tr>\n",
              "    <tr>\n",
              "      <th>8</th>\n",
              "      <td>There elderly people family able grocery peopl...</td>\n",
              "      <td>0</td>\n",
              "    </tr>\n",
              "    <tr>\n",
              "      <th>9</th>\n",
              "      <td>cannot simply rely government business employe...</td>\n",
              "      <td>2</td>\n",
              "    </tr>\n",
              "  </tbody>\n",
              "</table>\n",
              "</div>"
            ],
            "text/plain": [
              "                                       OriginalTweet  Sentiment\n",
              "0  HAPPY Friends know everyone uneasy thats go #c...          1\n",
              "1  positive thinking. HereÂs example negative th...          0\n",
              "2             Washing hand SOAP fight Here work well          2\n",
              "3  #coronavirus #masques arrivent #dessindepresse...          2\n",
              "4  @McDonaldsUK Dagenham, east London shut shop e...          0\n",
              "5  Covid Shopping mall supermarket meanwhile prep...          1\n",
              "6  Syrian Trading shopping center continue offeri...          2\n",
              "7  #Coronavirus Outbreak Making Dairy Farmers Dum...          0\n",
              "8  There elderly people family able grocery peopl...          0\n",
              "9  cannot simply rely government business employe...          2"
            ]
          },
          "metadata": {
            "tags": []
          },
          "execution_count": 156
        }
      ]
    },
    {
      "cell_type": "code",
      "metadata": {
        "colab": {
          "base_uri": "https://localhost:8080/"
        },
        "id": "WfJQC5yPHu6j",
        "outputId": "8c23d8ce-9cfb-4a04-9d44-65c5ba4d77aa"
      },
      "source": [
        "dataset.Sentiment.value_counts()"
      ],
      "id": "WfJQC5yPHu6j",
      "execution_count": null,
      "outputs": [
        {
          "output_type": "execute_result",
          "data": {
            "text/plain": [
              "1    18046\n",
              "0    15398\n",
              "2     7713\n",
              "Name: Sentiment, dtype: int64"
            ]
          },
          "metadata": {
            "tags": []
          },
          "execution_count": 192
        }
      ]
    },
    {
      "cell_type": "code",
      "metadata": {
        "colab": {
          "base_uri": "https://localhost:8080/"
        },
        "id": "Nj8mc3LJW1px",
        "outputId": "d2ed3d5a-c88f-4603-a1e6-863a341ac1dd"
      },
      "source": [
        "print(STOPWORDS)"
      ],
      "id": "Nj8mc3LJW1px",
      "execution_count": null,
      "outputs": [
        {
          "output_type": "stream",
          "text": [
            "{'in', 'was', 'doesn', 'if', 'ourselves', 'is', 'o', 'other', \"you'll\", 'only', 'out', \"isn't\", 'then', 'into', 'below', 'do', 'am', 'haven', 'to', \"don't\", 'ma', 'your', 'needn', 'nor', 'too', 'isn', 'from', \"didn't\", 'were', 'as', 'on', 're', 'off', 'such', \"wasn't\", 'own', 'i', 'whom', 'more', 'through', 'the', 'have', \"it's\", 'yourself', 'doing', 'them', 'until', 'during', 'itself', 't', 'those', \"hadn't\", 'can', 'didn', \"you're\", \"hasn't\", 'why', 'does', 'shan', 'all', 'yourselves', 'he', \"you've\", 'been', 'at', 'my', 'covid19', 'its', 'this', 'had', 'down', 'that', 'will', 'these', 'against', 'about', 'aren', 'after', 'yours', 'with', \"you'd\", 'when', \"doesn't\", \"mustn't\", 'who', \"haven't\", 'being', 'won', 'above', 'y', 's', 'under', 'just', 'so', 'did', 'by', 'weren', 'him', \"should've\", 've', 'll', 'no', 'before', 'while', \"that'll\", 'our', \"won't\", 'hadn', 'between', 'than', 'are', 'but', \"aren't\", \"couldn't\", 'we', \"shouldn't\", 'm', 'for', 'or', 'couldn', 'has', 'further', 'because', 'how', 'some', 'himself', 'mightn', 'his', 'which', \"wouldn't\", 'shouldn', 'hers', 'both', 'themselves', 'they', 'herself', 'and', 'wouldn', 'their', 'now', 'she', 'be', 'a', 'myself', 'over', 'here', 'there', 'what', 'having', 'you', 'very', 'don', 'up', 'wasn', \"shan't\", 'ours', 'where', \"weren't\", 'of', 'it', 'd', 'ain', 'her', 'me', 'again', 'any', \"mightn't\", 'coronavirus', 'theirs', 'most', 'not', \"she's\", 'few', 'mustn', \"needn't\", 'an', 'same', 'hasn', 'once', 'each', 'should'}\n"
          ],
          "name": "stdout"
        }
      ]
    },
    {
      "cell_type": "code",
      "metadata": {
        "colab": {
          "base_uri": "https://localhost:8080/"
        },
        "id": "dLxRZABnVOQt",
        "outputId": "8a2a76b1-b5b7-4807-99bd-ccbdd74e8a87"
      },
      "source": [
        "import nltk\n",
        "from nltk.corpus import stopwords\n",
        "nltk.download('stopwords')\n",
        "STOPWORDS = set(stopwords.words('english'))\n",
        "STOPWORDS = STOPWORDS | {'coronavirus', 'covid19'}\n",
        "\n",
        "from nltk.corpus import wordnet\n",
        "from nltk.stem.wordnet import WordNetLemmatizer\n",
        "nltk.download('wordnet')\n",
        "lemmatizer = WordNetLemmatizer()\n",
        "\n",
        "\n",
        "from nltk import pos_tag\n",
        "\n",
        "\n",
        "nltk.download('averaged_perceptron_tagger')\n",
        "def get_pos_tag(tag):\n",
        "    if tag.startswith('J'):\n",
        "        return wordnet.ADJ\n",
        "    elif tag.startswith('V'):\n",
        "        return wordnet.VERB\n",
        "    elif tag.startswith('N'):\n",
        "        return wordnet.NOUN\n",
        "    elif tag.startswith('R'):\n",
        "        return wordnet.ADV\n",
        "    else:\n",
        "        # As default pos in lemmatization is Noun\n",
        "        return wordnet.NOUN\n",
        "\n",
        "\n",
        "for nr, i in enumerate(dataset[\"OriginalTweet\"]):\n",
        "  text = \" \".join(lemmatizer.lemmatize(word.strip(), get_pos_tag(pos_tag([word.strip()])[0][1])) for word in i.split() if word not in STOPWORDS and len(word)>3)\n",
        "  dataset.iloc[nr, 0] = text"
      ],
      "id": "dLxRZABnVOQt",
      "execution_count": null,
      "outputs": [
        {
          "output_type": "stream",
          "text": [
            "[nltk_data] Downloading package stopwords to /root/nltk_data...\n",
            "[nltk_data]   Package stopwords is already up-to-date!\n",
            "[nltk_data] Downloading package wordnet to /root/nltk_data...\n",
            "[nltk_data]   Package wordnet is already up-to-date!\n",
            "[nltk_data] Downloading package averaged_perceptron_tagger to\n",
            "[nltk_data]     /root/nltk_data...\n",
            "[nltk_data]   Package averaged_perceptron_tagger is already up-to-\n",
            "[nltk_data]       date!\n"
          ],
          "name": "stdout"
        }
      ]
    },
    {
      "cell_type": "markdown",
      "metadata": {
        "id": "Pc-gJqso8HzX"
      },
      "source": [
        "Splitting data into two groups. One is for training and one for validation model. "
      ],
      "id": "Pc-gJqso8HzX"
    },
    {
      "cell_type": "code",
      "metadata": {
        "colab": {
          "base_uri": "https://localhost:8080/"
        },
        "id": "destroyed-flight",
        "outputId": "2c098d76-c5a6-4aeb-abf0-66370d81ff58"
      },
      "source": [
        "num = int(dataset.shape[0]*0.7)\n",
        "dataset_train = dataset.iloc[num:, :]\n",
        "dataset_test = dataset.iloc[:num, :]\n",
        "\n",
        "print(f\"{dataset_test.shape}, {dataset.shape}\")"
      ],
      "id": "destroyed-flight",
      "execution_count": null,
      "outputs": [
        {
          "output_type": "stream",
          "text": [
            "(28809, 2), (41157, 2)\n"
          ],
          "name": "stdout"
        }
      ]
    },
    {
      "cell_type": "markdown",
      "metadata": {
        "id": "IlNuRgYi8dC5"
      },
      "source": [
        "Numerical labels still are not what we really want. We will change them to one-hots."
      ],
      "id": "IlNuRgYi8dC5"
    },
    {
      "cell_type": "code",
      "metadata": {
        "id": "partial-sussex"
      },
      "source": [
        "from tensorflow.keras.utils import to_categorical"
      ],
      "id": "partial-sussex",
      "execution_count": null,
      "outputs": []
    },
    {
      "cell_type": "code",
      "metadata": {
        "id": "seven-devices"
      },
      "source": [
        "dataset_labels = to_categorical(dataset_train[\"Sentiment\"].astype('category'))\n",
        "dataset_tf = tf.data.Dataset.from_tensor_slices((dataset_train[\"OriginalTweet\"], dataset_labels))\n",
        "\n",
        "\n",
        "dataset_tf_test_labels = to_categorical(dataset_test[\"Sentiment\"].astype('category'))\n",
        "dataset_tf_test = tf.data.Dataset.from_tensor_slices((dataset_test[\"OriginalTweet\"], dataset_tf_test_labels))\n"
      ],
      "id": "seven-devices",
      "execution_count": null,
      "outputs": []
    },
    {
      "cell_type": "markdown",
      "metadata": {
        "id": "8Nvr8DEQ8yki"
      },
      "source": [
        "Let's see our work. Now we have text and one-hot labels."
      ],
      "id": "8Nvr8DEQ8yki"
    },
    {
      "cell_type": "code",
      "metadata": {
        "colab": {
          "base_uri": "https://localhost:8080/"
        },
        "id": "sized-christmas",
        "outputId": "c1828af9-3b73-4199-edc7-23e8c812ca2b"
      },
      "source": [
        "for feat, sec in dataset_tf.take(5):\n",
        "    print('Features: {}, Target: {}'.format(feat, sec))"
      ],
      "id": "sized-christmas",
      "execution_count": null,
      "outputs": [
        {
          "output_type": "stream",
          "text": [
            "Features: b'#jacobreesmogg Buying business slash prices, Profiteering Covid people misery, sell abortion pill 2017 spout anti abortion religious stance national television \"HYPOCRISY\" high level #BorisJohnson sack now. https://t.co/xvBglJW69R', Target: [1. 0. 0.]\n",
            "Features: b'successfully #FlattenTheCurve #CoronavirusPandemic, need part perform duty &amp; think collective good. This include serious #StayHomeSaveLives &amp; yes, follow rule local grocery store', Target: [0. 1. 0.]\n",
            "Features: b'Northland supermarket staff member test positive COVID', Target: [0. 1. 0.]\n",
            "Features: b'Following sharp drop price impact declare support review 2020 budget know best cope crisis', Target: [0. 1. 0.]\n",
            "Features: b'base startup develops sanitisation unit sanitizer ward challenge center', Target: [0. 1. 0.]\n"
          ],
          "name": "stdout"
        }
      ]
    },
    {
      "cell_type": "markdown",
      "metadata": {
        "id": "-j5w7GRT9zL6"
      },
      "source": [
        "## Model building"
      ],
      "id": "-j5w7GRT9zL6"
    },
    {
      "cell_type": "markdown",
      "metadata": {
        "id": "Q3ZX19L987TR"
      },
      "source": [
        "It is big time. Now we are going to define encoder layer. This layer will take out text and return us vectors which describe it. We also adapt this encoder to our data."
      ],
      "id": "Q3ZX19L987TR"
    },
    {
      "cell_type": "code",
      "metadata": {
        "id": "animated-soviet"
      },
      "source": [
        "VOCAB_SIZE=1000\n",
        "encoder = tf.keras.layers.experimental.preprocessing.TextVectorization(\n",
        "    max_tokens=VOCAB_SIZE)\n",
        "encoder.adapt(dataset_tf.map(lambda text, label: text))"
      ],
      "id": "animated-soviet",
      "execution_count": null,
      "outputs": []
    },
    {
      "cell_type": "code",
      "metadata": {
        "colab": {
          "base_uri": "https://localhost:8080/"
        },
        "id": "FkyA1cvNNEDH",
        "outputId": "f4462975-f76a-4a32-d852-64d7467358a5"
      },
      "source": [
        "vocab = np.array(encoder.get_vocabulary())\n",
        "vocab[:20]"
      ],
      "id": "FkyA1cvNNEDH",
      "execution_count": null,
      "outputs": [
        {
          "output_type": "execute_result",
          "data": {
            "text/plain": [
              "array(['', '[UNK]', 'covid19', 'coronavirus', 'price', 'store',\n",
              "       'consumer', 'grocery', 'supermarket', 'food', 'covid', 'people',\n",
              "       'pandemic', 'sanitizer', 'amp', 'hand', 'shopping', 'online',\n",
              "       'demand', 'need'], dtype='<U19')"
            ]
          },
          "metadata": {
            "tags": []
          },
          "execution_count": 210
        }
      ]
    },
    {
      "cell_type": "markdown",
      "metadata": {
        "id": "RI5QPM3x9Tbr"
      },
      "source": [
        "Becaouse we use vocab size, ot every dingle word will be important to us. Let's see how text looks like after use encoder. This is only prezentation. This step is not important in our model."
      ],
      "id": "RI5QPM3x9Tbr"
    },
    {
      "cell_type": "code",
      "metadata": {
        "colab": {
          "base_uri": "https://localhost:8080/"
        },
        "id": "personal-farmer",
        "outputId": "6320d88e-de11-4d75-c947-98f9509a16b1"
      },
      "source": [
        "example = dataset[\"OriginalTweet\"]\n",
        "encoded = encoder(example).numpy()\n",
        "\n",
        "vocab = np.array(encoder.get_vocabulary())\n",
        "print(vocab[:20])\n",
        "\n",
        "for n in range(3):\n",
        "    print(\"Original: \", example[n])\n",
        "    print(\"Round-trip: \", \" \".join(vocab[encoded[n]]))"
      ],
      "id": "personal-farmer",
      "execution_count": null,
      "outputs": [
        {
          "output_type": "stream",
          "text": [
            "['' '[UNK]' 'coronavirus' 'covid19' 'store' 'supermarket' 'food' 'price'\n",
            " 'grocery' 'people' 'consumer' 'amp' 'shopping' 'need' 'online' 'covid'\n",
            " 'work' 'pandemic' 'time' 'go']\n",
            "Original:  @MeNyrbie @Phil_Gahan @Chrisitv https://t.co/iFz9FAn2Pa and https://t.co/xX6ghGFzCC and https://t.co/I2NlzdxNo8\n",
            "Round-trip:  [UNK] [UNK] [UNK] [UNK] and [UNK] and [UNK]                                                        \n",
            "Original:  advice Talk to your neighbours family to exchange phone numbers create contact list with phone numbers of neighbours schools employer chemist GP set up online shopping accounts if poss adequate supplies of regular meds but not over order\n",
            "Round-trip:  advice talk [UNK] your [UNK] family [UNK] [UNK] phone [UNK] create contact list with phone [UNK] [UNK] [UNK] [UNK] [UNK] [UNK] [UNK] [UNK] [UNK] online shopping [UNK] [UNK] [UNK] [UNK] supplies [UNK] [UNK] [UNK] [UNK] not over order                          \n",
            "Original:  Coronavirus Australia: Woolworths to give elderly, disabled dedicated shopping hours amid COVID-19 outbreak https://t.co/bInCA9Vp8P\n",
            "Round-trip:  coronavirus australia [UNK] [UNK] give elderly [UNK] [UNK] shopping hours amid covid19 outbreak [UNK]                                                  \n"
          ],
          "name": "stdout"
        }
      ]
    },
    {
      "cell_type": "markdown",
      "metadata": {
        "id": "KXyC73Ly9lNl"
      },
      "source": [
        "In this step we define every layer in our model and describe it. "
      ],
      "id": "KXyC73Ly9lNl"
    },
    {
      "cell_type": "code",
      "metadata": {
        "id": "banner-perth"
      },
      "source": [
        "model = tf.keras.Sequential([\n",
        "    encoder, #vectorizing text\n",
        "    tf.keras.layers.Embedding(\n",
        "        input_dim=len(encoder.get_vocabulary()),\n",
        "        output_dim=64,\n",
        "        mask_zero=True), #changing the shape of data: integers to dense vectors\n",
        "    tf.keras.layers.Bidirectional(tf.keras.layers.LSTM(64)), #hidden layers - this is a wrapper. We will describe this below.\n",
        "    tf.keras.layers.Dropout(0.4),\n",
        "    tf.keras.layers.Dense(64, activation=\"relu\"),\n",
        "    tf.keras.layers.Dropout(0.4),\n",
        "    tf.keras.layers.Dense(3)\n",
        "\n",
        "    # tf.keras.layers.Dense(64, activation='relu'), #normal layer with typical activation function\n",
        "    # tf.keras.layers.Dropout(0.5), #to avoid overfitting\n",
        "    # tf.keras.layers.Dense(64, activation='relu'), #normal layer with typical activation function\n",
        "    # tf.keras.layers.Dropout(0.5), #to avoid overfitting\n",
        "    # tf.keras.layers.Dense(5) #normal last layer which give us logits\n",
        "])"
      ],
      "id": "banner-perth",
      "execution_count": null,
      "outputs": []
    },
    {
      "cell_type": "code",
      "metadata": {
        "id": "NfEV4eUD97GO"
      },
      "source": [
        "embedding_dim = 16\n",
        "model = tf.keras.Sequential([\n",
        "    tf.keras.layers.Embedding(VOCAB_SIZE, embedding_dim, input_length=len(encoder.get_vocabulary())),\n",
        "    tf.keras.layers.Bidirectional(tf.keras.layers.LSTM(VOCAB_SIZE,return_sequences=True)),\n",
        "    tf.keras.layers.GlobalMaxPool1D(),\n",
        "    tf.keras.layers.Dropout(0.4),\n",
        "    tf.keras.layers.Dense(64, activation=\"relu\"),\n",
        "    tf.keras.layers.Dropout(0.4),\n",
        "    tf.keras.layers.Dense(3)\n",
        "])"
      ],
      "id": "NfEV4eUD97GO",
      "execution_count": null,
      "outputs": []
    },
    {
      "cell_type": "code",
      "metadata": {
        "id": "ENwUjfGTTU61"
      },
      "source": [
        "model = tf.keras.Sequential([\n",
        "    encoder,\n",
        "    tf.keras.layers.Embedding(len(encoder.get_vocabulary()), 64, mask_zero=True),\n",
        "    tf.keras.layers.Bidirectional(tf.keras.layers.LSTM(64,  return_sequences=True)),\n",
        "    tf.keras.layers.Bidirectional(tf.keras.layers.LSTM(32)),\n",
        "    tf.keras.layers.Dropout(0.6),\n",
        "    tf.keras.layers.Dense(64, activation='relu'),\n",
        "    tf.keras.layers.Dropout(0.6),\n",
        "    tf.keras.layers.Dense(3)\n",
        "])"
      ],
      "id": "ENwUjfGTTU61",
      "execution_count": null,
      "outputs": []
    },
    {
      "cell_type": "markdown",
      "metadata": {
        "id": "KSCC6zkl_EZz"
      },
      "source": [
        "# PLACE TO DESCRIBE RNN MODELS"
      ],
      "id": "KSCC6zkl_EZz"
    },
    {
      "cell_type": "code",
      "metadata": {
        "colab": {
          "base_uri": "https://localhost:8080/"
        },
        "id": "nominated-mailing",
        "outputId": "5a5a97d2-5512-460e-a733-ad2b67a0a8fa"
      },
      "source": [
        "sample_text = ('The movie was cool. The animation and the graphics '\n",
        "               'were out of this world. I would recommend this movie.')\n",
        "predictions = model.predict(np.array([sample_text]))\n",
        "print(predictions[0])"
      ],
      "id": "nominated-mailing",
      "execution_count": null,
      "outputs": [
        {
          "output_type": "stream",
          "text": [
            "[-0.00352697  0.00587284 -0.00418681]\n"
          ],
          "name": "stdout"
        }
      ]
    },
    {
      "cell_type": "markdown",
      "metadata": {
        "id": "iBaKvVk6_hHv"
      },
      "source": [
        "Our model is not done yet. We need to write how to compile him. "
      ],
      "id": "iBaKvVk6_hHv"
    },
    {
      "cell_type": "code",
      "metadata": {
        "id": "ceramic-dance"
      },
      "source": [
        "model.compile(loss=tf.keras.losses.CategoricalCrossentropy(from_logits=True), #!binary\n",
        "              optimizer=tf.keras.optimizers.Adam(), #tf.keras.optimizers.SGD() #1e-4\n",
        "              metrics=['accuracy'])"
      ],
      "id": "ceramic-dance",
      "execution_count": null,
      "outputs": []
    },
    {
      "cell_type": "code",
      "metadata": {
        "colab": {
          "base_uri": "https://localhost:8080/"
        },
        "id": "yuVjwyUa7lbO",
        "outputId": "05e16fb7-187b-477e-8788-5ee4b224b049"
      },
      "source": [
        "model.summary()"
      ],
      "id": "yuVjwyUa7lbO",
      "execution_count": null,
      "outputs": [
        {
          "output_type": "stream",
          "text": [
            "Model: \"sequential_1\"\n",
            "_________________________________________________________________\n",
            "Layer (type)                 Output Shape              Param #   \n",
            "=================================================================\n",
            "text_vectorization (TextVect (None, None)              0         \n",
            "_________________________________________________________________\n",
            "embedding_1 (Embedding)      (None, None, 64)          64000     \n",
            "_________________________________________________________________\n",
            "bidirectional_1 (Bidirection (None, 128)               66048     \n",
            "_________________________________________________________________\n",
            "dropout_2 (Dropout)          (None, 128)               0         \n",
            "_________________________________________________________________\n",
            "dense_2 (Dense)              (None, 64)                8256      \n",
            "_________________________________________________________________\n",
            "dropout_3 (Dropout)          (None, 64)                0         \n",
            "_________________________________________________________________\n",
            "dense_3 (Dense)              (None, 3)                 195       \n",
            "=================================================================\n",
            "Total params: 138,499\n",
            "Trainable params: 138,499\n",
            "Non-trainable params: 0\n",
            "_________________________________________________________________\n"
          ],
          "name": "stdout"
        }
      ]
    },
    {
      "cell_type": "code",
      "metadata": {
        "colab": {
          "base_uri": "https://localhost:8080/"
        },
        "id": "sophisticated-cameroon",
        "outputId": "05d66905-652f-4da9-c2e0-ac9aff47b9a5"
      },
      "source": [
        "dataset_tf_test"
      ],
      "id": "sophisticated-cameroon",
      "execution_count": null,
      "outputs": [
        {
          "output_type": "execute_result",
          "data": {
            "text/plain": [
              "<TensorSliceDataset shapes: ((), (3,)), types: (tf.string, tf.float32)>"
            ]
          },
          "metadata": {
            "tags": []
          },
          "execution_count": 141
        }
      ]
    },
    {
      "cell_type": "markdown",
      "metadata": {
        "id": "M2UpoK91BCOD"
      },
      "source": [
        "We split data to portions."
      ],
      "id": "M2UpoK91BCOD"
    },
    {
      "cell_type": "code",
      "metadata": {
        "id": "detected-december"
      },
      "source": [
        "BATCH_SIZE = 64\n",
        "BUFFER_SIZE = 10000\n",
        "\n",
        "dataset_tf_batch = dataset_tf.shuffle(BUFFER_SIZE).batch(BATCH_SIZE)\n",
        "dataset_tf_test_batch = dataset_tf_test.batch(BATCH_SIZE)"
      ],
      "id": "detected-december",
      "execution_count": null,
      "outputs": []
    },
    {
      "cell_type": "markdown",
      "metadata": {
        "id": "zlI_AABeBHbh"
      },
      "source": [
        "Activate progress bar."
      ],
      "id": "zlI_AABeBHbh"
    },
    {
      "cell_type": "code",
      "metadata": {
        "id": "growing-sister"
      },
      "source": [
        "tfds.disable_progress_bar()\n",
        "dataset_tf_test = dataset"
      ],
      "id": "growing-sister",
      "execution_count": null,
      "outputs": []
    },
    {
      "cell_type": "markdown",
      "metadata": {
        "id": "1lZNvc-pBKQJ"
      },
      "source": [
        "Activate training our model"
      ],
      "id": "1lZNvc-pBKQJ"
    },
    {
      "cell_type": "code",
      "metadata": {
        "colab": {
          "base_uri": "https://localhost:8080/"
        },
        "id": "retired-there",
        "outputId": "532ea2a8-3eca-409c-e7b2-faf838f4fd11"
      },
      "source": [
        "history = model.fit(dataset_tf_batch, epochs=5,\n",
        "                    validation_data=dataset_tf_test_batch)\n",
        "                    #validation_steps=15)"
      ],
      "id": "retired-there",
      "execution_count": null,
      "outputs": [
        {
          "output_type": "stream",
          "text": [
            "Epoch 1/3\n",
            "193/193 [==============================] - 22s 71ms/step - loss: 1.0158 - accuracy: 0.4655 - val_loss: 0.7914 - val_accuracy: 0.6510\n",
            "Epoch 2/3\n",
            "193/193 [==============================] - 11s 59ms/step - loss: 0.7131 - accuracy: 0.7153 - val_loss: 0.7183 - val_accuracy: 0.6927\n",
            "Epoch 3/3\n",
            "193/193 [==============================] - 12s 60ms/step - loss: 0.6423 - accuracy: 0.7478 - val_loss: 0.7115 - val_accuracy: 0.6979\n"
          ],
          "name": "stdout"
        }
      ]
    },
    {
      "cell_type": "markdown",
      "metadata": {
        "id": "nLWuAkeXBOYQ"
      },
      "source": [
        "Use other data to evaluate our model."
      ],
      "id": "nLWuAkeXBOYQ"
    },
    {
      "cell_type": "code",
      "metadata": {
        "colab": {
          "base_uri": "https://localhost:8080/"
        },
        "id": "historical-victory",
        "outputId": "0e95fb09-1ff8-466c-fbb4-1bd525deb3a3"
      },
      "source": [
        "data= pd.read_csv(\"text_classifier_sentiment/Corona_NLP_test.csv\", encoding='latin-1')\n",
        "\n",
        "dataset_train = data[[\"OriginalTweet\", \"Sentiment\"]]\n",
        "\n",
        "#cleanup_nums = [i for i in range(len(list(dataset.iloc[:, -1].unique())))]\n",
        "#cleanup = {(list(dataset.iloc[:, -1].unique())[i]): i for i in cleanup_nums}\n",
        "cleanup = {'Extremely Negative': 0, 'Extremely Positive': 1, 'Positive': 1, 'Negative': 0, 'Neutral': 2}\n",
        "dataset_train = dataset_train.replace(cleanup)\n",
        "\n",
        "print(dataset_train[\"Sentiment\"].value_counts())\n",
        "\n",
        "dataset_train.replace('\\r{1,}','',regex=True, inplace = True)\n",
        "\n",
        "\n",
        "dataset_labels = to_categorical(dataset_train[\"Sentiment\"].astype('category'))\n",
        "dataset_tf = tf.data.Dataset.from_tensor_slices((dataset_train[\"OriginalTweet\"], dataset_labels))\n",
        "dataset_tf = dataset_tf.shuffle(BUFFER_SIZE).batch(BATCH_SIZE)\n",
        "\n",
        "test_loss, test_acc = model.evaluate(dataset_tf)\n",
        "\n",
        "print('Test Loss: {}'.format(test_loss))\n",
        "print('Test Accuracy: {}'.format(test_acc))"
      ],
      "id": "historical-victory",
      "execution_count": null,
      "outputs": [
        {
          "output_type": "stream",
          "text": [
            "0    1633\n",
            "1    1546\n",
            "2     619\n",
            "Name: Sentiment, dtype: int64\n",
            "60/60 [==============================] - 2s 27ms/step - loss: 0.8039 - accuracy: 0.6382\n",
            "Test Loss: 0.8039377331733704\n",
            "Test Accuracy: 0.6382306218147278\n"
          ],
          "name": "stdout"
        }
      ]
    },
    {
      "cell_type": "code",
      "metadata": {
        "colab": {
          "base_uri": "https://localhost:8080/"
        },
        "id": "3dGZD_rxG6s5",
        "outputId": "b85238b2-b3ac-4f28-db2f-d2893ffe9e0e"
      },
      "source": [
        "dataset[\"Sentiment\"].value_counts()"
      ],
      "id": "3dGZD_rxG6s5",
      "execution_count": null,
      "outputs": [
        {
          "output_type": "execute_result",
          "data": {
            "text/plain": [
              "1    11422\n",
              "3     9917\n",
              "0     7713\n",
              "4     6624\n",
              "2     5481\n",
              "Name: Sentiment, dtype: int64"
            ]
          },
          "metadata": {
            "tags": []
          },
          "execution_count": 36
        }
      ]
    },
    {
      "cell_type": "code",
      "metadata": {
        "colab": {
          "base_uri": "https://localhost:8080/"
        },
        "id": "-6J1WFwZEtia",
        "outputId": "c92cf95e-7b6f-4d4f-badb-ed1ef61714a5"
      },
      "source": [
        "history.history.keys()"
      ],
      "id": "-6J1WFwZEtia",
      "execution_count": null,
      "outputs": [
        {
          "output_type": "execute_result",
          "data": {
            "text/plain": [
              "dict_keys(['loss', 'accuracy', 'val_loss', 'val_accuracy'])"
            ]
          },
          "metadata": {
            "tags": []
          },
          "execution_count": 44
        }
      ]
    },
    {
      "cell_type": "code",
      "metadata": {
        "colab": {
          "base_uri": "https://localhost:8080/",
          "height": 295
        },
        "id": "BJJqxVkJEiqd",
        "outputId": "c069073b-8eb0-4f19-de45-4e9510a18bb8"
      },
      "source": [
        "history_dict = history.history\n",
        "acc = history_dict['accuracy']\n",
        "val_acc = history_dict['val_accuracy']\n",
        "loss = history_dict['loss']\n",
        "val_loss = history_dict['val_loss']\n",
        "\n",
        "epochs = range(1, len(acc) + 1)\n",
        "\n",
        "import matplotlib.pyplot as plt\n",
        "\n",
        "# \"bo\" is for \"blue dot\"\n",
        "plt.plot(epochs, loss, 'bo', label='Training loss')\n",
        "# b is for \"solid blue line\"\n",
        "plt.plot(epochs, val_loss, 'b', label='Validation loss')\n",
        "plt.title('Training and validation loss')\n",
        "plt.xlabel('Epochs')\n",
        "plt.ylabel('Loss')\n",
        "plt.legend()\n",
        "\n",
        "plt.show()"
      ],
      "id": "BJJqxVkJEiqd",
      "execution_count": null,
      "outputs": [
        {
          "output_type": "display_data",
          "data": {
            "image/png": "[encoded data removed]",
            "text/plain": [
              "<Figure size 432x288 with 1 Axes>"
            ]
          },
          "metadata": {
            "tags": [],
            "needs_background": "light"
          }
        }
      ]
    },
    {
      "cell_type": "code",
      "metadata": {
        "colab": {
          "base_uri": "https://localhost:8080/",
          "height": 295
        },
        "id": "1hCysR6zFdG3",
        "outputId": "813b3eb2-2399-463c-e597-7dd64763021c"
      },
      "source": [
        "# \"bo\" is for \"blue dot\"\n",
        "plt.plot(epochs, acc, 'bo', label='Training accuracy')\n",
        "# b is for \"solid blue line\"\n",
        "plt.plot(epochs, val_acc, 'b', label='Validation accuracy')\n",
        "plt.title('Training and validation loss')\n",
        "plt.xlabel('Epochs')\n",
        "plt.ylabel('Accuracy')\n",
        "plt.legend()\n",
        "\n",
        "plt.show()"
      ],
      "id": "1hCysR6zFdG3",
      "execution_count": null,
      "outputs": [
        {
          "output_type": "display_data",
          "data": {
            "image/png": "[encoded data removed]",
            "text/plain": [
              "<Figure size 432x288 with 1 Axes>"
            ]
          },
          "metadata": {
            "tags": [],
            "needs_background": "light"
          }
        }
      ]
    },
    {
      "cell_type": "markdown",
      "metadata": {
        "id": "Lm-hLyhrBaLF"
      },
      "source": [
        "# SPACE TO PCA OR T-SNE"
      ],
      "id": "Lm-hLyhrBaLF"
    },
    {
      "cell_type": "code",
      "metadata": {
        "id": "vjmDQTdRBc36"
      },
      "source": [
        ""
      ],
      "id": "vjmDQTdRBc36",
      "execution_count": null,
      "outputs": []
    },
    {
      "cell_type": "code",
      "metadata": {
        "id": "SLEvqTerTRWN"
      },
      "source": [
        ""
      ],
      "id": "SLEvqTerTRWN",
      "execution_count": null,
      "outputs": []
    },
    {
      "cell_type": "code",
      "metadata": {
        "id": "RrnHiBodEh-S"
      },
      "source": [
        ""
      ],
      "id": "RrnHiBodEh-S",
      "execution_count": null,
      "outputs": []
    },
    {
      "cell_type": "code",
      "metadata": {
        "id": "t9k8LpVLNCir"
      },
      "source": [
        ""
      ],
      "id": "t9k8LpVLNCir",
      "execution_count": null,
      "outputs": []
    }
  ]
}